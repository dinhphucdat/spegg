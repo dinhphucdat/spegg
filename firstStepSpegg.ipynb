{
  "nbformat": 4,
  "nbformat_minor": 0,
  "metadata": {
    "colab": {
      "provenance": []
    },
    "kernelspec": {
      "name": "python3",
      "display_name": "Python 3"
    },
    "language_info": {
      "name": "python"
    }
  },
  "cells": [
    {
      "cell_type": "markdown",
      "source": [
        "# Preliminaries: First time installation and use on Colab"
      ],
      "metadata": {
        "id": "E-Y_WERvuPX3"
      }
    },
    {
      "cell_type": "markdown",
      "source": [
        "1. Ensure that your are on a Colab [GPU runtime](https://stackoverflow.com/a/67504607). If you are not, then this instruction will fail as \"`command not found`\":"
      ],
      "metadata": {
        "id": "7Eih2j9_oPIv"
      }
    },
    {
      "cell_type": "code",
      "source": [
        "!nvidia-smi"
      ],
      "metadata": {
        "id": "KZjX8l7Vl7v4"
      },
      "execution_count": null,
      "outputs": []
    },
    {
      "cell_type": "markdown",
      "source": [
        "2. Set the variable `PATH_TO_YOUR_SPEGG_IN_DRIVE` as the path in your Google Drive to the folder where you desire to put the spegg project in.\n",
        "\n",
        "  For example, if you want to put the spegg project in `spegg_folder` whose path is `My Drive/folderA/spegg_folder`, set `PATH_TO_YOUR_SPEGG_IN_DRIVE = folderA/spegg_folder`"
      ],
      "metadata": {
        "id": "Dc98gv-3ohY_"
      }
    },
    {
      "cell_type": "code",
      "source": [
        "#-----------------------------------------------------------------------------------#\n",
        "PATH_TO_YOUR_SPEGG_IN_DRIVE = \"folderA/spegg_folder\" # custom #\n",
        "#-----------------------------------------------------------------------------------#"
      ],
      "metadata": {
        "id": "rRF9B1qT0LnF"
      },
      "execution_count": null,
      "outputs": []
    },
    {
      "cell_type": "markdown",
      "source": [
        "3. Install the libconfig dependency"
      ],
      "metadata": {
        "id": "7meDEaoWmDhI"
      }
    },
    {
      "cell_type": "code",
      "source": [
        "!sudo apt-get update\n",
        "!sudo apt-get install libconfig++-dev"
      ],
      "metadata": {
        "id": "6kSDlzj0HUIG",
        "collapsed": true
      },
      "execution_count": null,
      "outputs": []
    },
    {
      "cell_type": "markdown",
      "source": [
        "4. Clone the `colab` branch from the sPEGG repository to Google Colab\n"
      ],
      "metadata": {
        "id": "YZ4GTx1Tn7Bj"
      }
    },
    {
      "cell_type": "code",
      "source": [
        "!git clone -b colab --recursive https://github.com/dinhphucdat/spegg.git"
      ],
      "metadata": {
        "collapsed": true,
        "id": "DeXPUsopjB75"
      },
      "execution_count": null,
      "outputs": []
    },
    {
      "cell_type": "markdown",
      "source": [
        "* After cloning that to your runtime, spegg's location should be at the path: `/content/spegg/`\n",
        "like so:"
      ],
      "metadata": {
        "id": "3_PO8l8cjuZC"
      }
    },
    {
      "cell_type": "markdown",
      "source": [
        "![image.png](data:image/png;base64,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)"
      ],
      "metadata": {
        "id": "3hOgO2hlmjbB"
      }
    },
    {
      "cell_type": "markdown",
      "source": [
        "**The following steps will then set up the base codebase and move this to your Google Drive.**\n",
        "\n",
        "***This will save you the trouble of having to recompile everything in the future.***"
      ],
      "metadata": {
        "id": "WdajYBIoo4VR"
      }
    },
    {
      "cell_type": "markdown",
      "source": [
        "5. Move into spegg directory in your runtime"
      ],
      "metadata": {
        "id": "z5QXj-1ZoDGL"
      }
    },
    {
      "cell_type": "code",
      "source": [
        "%cd spegg"
      ],
      "metadata": {
        "id": "gen95GyjGgsf"
      },
      "execution_count": null,
      "outputs": []
    },
    {
      "cell_type": "markdown",
      "source": [
        "6. Call the make rule. The first time you do this, this will take a bit of time."
      ],
      "metadata": {
        "id": "Ou1Vw_GsoUhS"
      }
    },
    {
      "cell_type": "code",
      "source": [
        "!make"
      ],
      "metadata": {
        "id": "EJet-LPSH781",
        "collapsed": true
      },
      "execution_count": null,
      "outputs": []
    },
    {
      "cell_type": "markdown",
      "source": [
        "7. Import necessary packages for moving repository into your google drive"
      ],
      "metadata": {
        "id": "1CdjCtN1oYCC"
      }
    },
    {
      "cell_type": "code",
      "source": [
        "import os, shutil, google.colab"
      ],
      "metadata": {
        "id": "jbwsaiScXh3a"
      },
      "execution_count": null,
      "outputs": []
    },
    {
      "cell_type": "markdown",
      "source": [
        "8. Mount your Google Drive from Colab"
      ],
      "metadata": {
        "id": "fEbUbTwlodqc"
      }
    },
    {
      "cell_type": "code",
      "source": [
        "google.colab.drive.mount('/content/drive')"
      ],
      "metadata": {
        "id": "tFdjJaqXX8hL"
      },
      "execution_count": null,
      "outputs": []
    },
    {
      "cell_type": "markdown",
      "source": [
        "9. Move spegg and the compiled binaries into your Drive."
      ],
      "metadata": {
        "id": "8eQQYjsL0Ajl"
      }
    },
    {
      "cell_type": "code",
      "source": [
        "PATH_TO_YOUR_SPEGG_IN_DRIVE += \"/spegg\"\n",
        "full_path_destination = os.path.join(\"/content/drive/My Drive/\", PATH_TO_YOUR_SPEGG_IN_DRIVE)\n",
        "source_path = \"/content/spegg\"\n",
        "shutil.copytree(source_path, full_path_destination)"
      ],
      "metadata": {
        "id": "HbtSqudXYgn0"
      },
      "execution_count": null,
      "outputs": []
    },
    {
      "cell_type": "markdown",
      "source": [
        "**You have now installed the basic codebase for sPEGG to your Google Drive and can begin developing user-specific models in future Google Colab sessions**"
      ],
      "metadata": {
        "id": "WVkaY-fDuaQ_"
      }
    },
    {
      "cell_type": "markdown",
      "source": [
        "#Subsequently running sPEGG from Colab"
      ],
      "metadata": {
        "id": "H5dG0-drulBf"
      }
    },
    {
      "cell_type": "markdown",
      "source": [
        "Mount your Drive back on your Colab notebook by running these lines in a Colab cell:\n",
        "```\n",
        "from google.colab import drive\n",
        "drive.mount(\"/content/drive\")\n",
        "```\n",
        "and redownload `libconfig` (shouldn't take more than 20 seconds)\n",
        "```\n",
        "!sudo apt-get update\n",
        "!sudo apt-get install libconfig++-dev\n",
        "```\n",
        "Then navigate into `MyDrive` directory until you find spegg directory. You can now proceed to develop your user-specific instance from there."
      ],
      "metadata": {
        "id": "DHIl6EOOqEH4"
      }
    },
    {
      "cell_type": "markdown",
      "source": [
        "###Example:\n",
        "\n",
        "If you saved spegg into `PATH_TO_YOUR_SPEGG_IN_DRIVE` at the top of this notebook (e.g., `folderA/spegg_folder`), you can access the cloned and partially compiled sPEGG repository in future colab sessions as:"
      ],
      "metadata": {
        "id": "iTGK-OafsxOX"
      }
    },
    {
      "cell_type": "code",
      "source": [
        "from google.colab import drive\n",
        "drive.mount(\"/content/drive\")\n",
        "!sudo apt-get update\n",
        "!sudo apt-get install libconfig++-dev\n",
        "\n",
        "%cd drive/MyDrive/{PATH_TO_YOUR_SPEGG_IN_DRIVE}/spegg"
      ],
      "metadata": {
        "collapsed": true,
        "id": "2xJJSSHQr3VJ"
      },
      "execution_count": null,
      "outputs": []
    },
    {
      "cell_type": "markdown",
      "source": [
        "The resulting use-case specific code can then be compiled from inside Google drive without having to recompile the main codebase. For instance:"
      ],
      "metadata": {
        "id": "d0S3cgVvshIX"
      }
    },
    {
      "cell_type": "code",
      "source": [
        "%cd Examples/Tutorial_Simulation\n",
        "!make"
      ],
      "metadata": {
        "collapsed": true,
        "id": "rmUzDkMxsj_Y"
      },
      "execution_count": null,
      "outputs": []
    },
    {
      "cell_type": "markdown",
      "source": [
        "You can now run the compiled executable from within Google Colab:"
      ],
      "metadata": {
        "id": "eZ44MwI7tUdn"
      }
    },
    {
      "cell_type": "code",
      "source": [
        "!./a.out"
      ],
      "metadata": {
        "id": "ThuJZGs8smL0"
      },
      "execution_count": null,
      "outputs": []
    }
  ]
}